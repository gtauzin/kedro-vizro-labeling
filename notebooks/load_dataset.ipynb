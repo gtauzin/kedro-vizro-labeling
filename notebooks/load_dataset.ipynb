{
 "cells": [
  {
   "cell_type": "code",
   "execution_count": null,
   "id": "91fd616e",
   "metadata": {},
   "outputs": [],
   "source": [
    "import random\n",
    "import numpy as np\n",
    "import pandas as pd\n",
    "import plotly.express as px\n",
    "from scipy.io import arff"
   ]
  },
  {
   "cell_type": "code",
   "execution_count": null,
   "id": "6a52a64e",
   "metadata": {},
   "outputs": [],
   "source": [
    "arff_train = arff.loadarff('../data/01_raw/CounterMovementJump_TRAIN.arff')\n",
    "arff_test = arff.loadarff('../data/01_raw/CounterMovementJump_TEST.arff')"
   ]
  },
  {
   "cell_type": "code",
   "execution_count": null,
   "id": "5e3db3be",
   "metadata": {},
   "outputs": [],
   "source": [
    "train_dataset = pd.DataFrame(arff_train[0])\n",
    "train_dataset"
   ]
  },
  {
   "cell_type": "code",
   "execution_count": null,
   "id": "bf93dc75",
   "metadata": {},
   "outputs": [],
   "source": [
    "test_dataset = pd.DataFrame(arff_test[0])\n",
    "test_dataset"
   ]
  },
  {
   "cell_type": "code",
   "execution_count": null,
   "id": "2c79039f",
   "metadata": {},
   "outputs": [],
   "source": [
    "columns = [\"a_x\", \"a_y\", \"a_z\"]\n",
    "\n",
    "n_examples_train = len(train_dataset[\"relationalAttr\"])\n",
    "n_examples_test = len(test_dataset[\"relationalAttr\"])\n",
    "n_columns = len(train_dataset[\"relationalAttr\"].iloc[0])\n",
    "n_timestamps = len(train_dataset[\"relationalAttr\"].iloc[0][0])\n",
    "\n",
    "n_examples_train, n_examples_test, n_columns, n_timestamps"
   ]
  },
  {
   "cell_type": "code",
   "execution_count": null,
   "id": "a388fbf3",
   "metadata": {},
   "outputs": [],
   "source": [
    "for i_ex in range(n_examples_train):\n",
    "    data = {}\n",
    "    start_time_stamp = pd.Timestamp('2023-01-01') + pd.to_timedelta(random.randint(0, 365 * 24 * 60 * 60), unit='s') + pd.to_timedelta(random.randint(0, 1000), unit='us')\n",
    "    index = pd.date_range(start=start_time_stamp, periods=n_timestamps, freq=pd.Timedelta(seconds=1/1024))\n",
    "    for i_col in range(n_columns):\n",
    "        data[columns[i_col]] = np.array(train_dataset[\"relationalAttr\"].iloc[i_ex][i_col].tolist())\n",
    "\n",
    "    df_ex = pd.DataFrame(data=data, index=index)\n",
    "    df_ex.to_parquet(f\"../data/01_raw/train/counter_movement_jump_{i_ex}.pq\")"
   ]
  },
  {
   "cell_type": "code",
   "execution_count": null,
   "id": "0b35e11c",
   "metadata": {},
   "outputs": [],
   "source": [
    "for i_ex in range(n_examples_test):\n",
    "    data = {}\n",
    "    start_time_stamp = pd.Timestamp('2023-01-01') + pd.to_timedelta(random.randint(0, 365 * 24 * 60 * 60), unit='s') + pd.to_timedelta(random.randint(0, 1000), unit='us')\n",
    "    index = pd.date_range(start=start_time_stamp, periods=n_timestamps, freq=pd.Timedelta(seconds=1/1024))\n",
    "    for i_col in range(n_columns):\n",
    "        data[columns[i_col]] = np.array(test_dataset[\"relationalAttr\"].iloc[i_ex][i_col].tolist())\n",
    "\n",
    "    df_ex = pd.DataFrame(data=data, index=index)\n",
    "    df_ex.to_parquet(f\"../data/01_raw/test/counter_movement_jump_{i_ex}.pq\")"
   ]
  },
  {
   "cell_type": "code",
   "execution_count": null,
   "id": "79905e33",
   "metadata": {},
   "outputs": [],
   "source": [
    "i_ex = 400\n",
    "df = pd.read_parquet(f\"../data/01_raw/train/counter_movement_jump_{i_ex}.pq\")\n",
    "\n",
    "px.line(df)"
   ]
  },
  {
   "cell_type": "code",
   "execution_count": null,
   "id": "13a3a5b9",
   "metadata": {},
   "outputs": [],
   "source": []
  }
 ],
 "metadata": {
  "kernelspec": {
   "display_name": ".venv",
   "language": "python",
   "name": "python3"
  },
  "language_info": {
   "codemirror_mode": {
    "name": "ipython",
    "version": 3
   },
   "file_extension": ".py",
   "mimetype": "text/x-python",
   "name": "python",
   "nbconvert_exporter": "python",
   "pygments_lexer": "ipython3",
   "version": "3.13.0"
  }
 },
 "nbformat": 4,
 "nbformat_minor": 5
}
